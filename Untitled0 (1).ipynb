{
  "nbformat": 4,
  "nbformat_minor": 0,
  "metadata": {
    "colab": {
      "provenance": []
    },
    "kernelspec": {
      "name": "python3",
      "display_name": "Python 3"
    },
    "language_info": {
      "name": "python"
    }
  },
  "cells": [
    {
      "cell_type": "code",
      "execution_count": 1,
      "metadata": {
        "id": "dPiSSqzZmNDk"
      },
      "outputs": [],
      "source": [
        "import numpy as np\n",
        "\n",
        "def truncate_and_extract_max_abs(data, period):\n",
        "    \"\"\"\n",
        "    Truncate the dataset to the largest possible integer multiple of the period and\n",
        "    extract the maximum absolute value from each block of data with length equivalent to the period.\n",
        "\n",
        "    Parameters:\n",
        "    data (numpy.ndarray): The velocity data.\n",
        "    period (float): The dominant period to use for truncation.\n",
        "\n",
        "    Returns:\n",
        "    numpy.ndarray: A new three-column array with the maximum absolute values.\n",
        "    \"\"\"\n",
        "    # Calculate the number of full periods in the dataset\n",
        "    num_periods = int(len(data) / period)\n",
        "\n",
        "    # Truncate the data to the largest multiple of the period\n",
        "    truncated_data = data[:int(num_periods * period), :]\n",
        "\n",
        "    # Reshape the data into blocks\n",
        "    blocks = truncated_data.reshape(num_periods, int(period), data.shape[1])\n",
        "\n",
        "    # Extract maximum absolute values from each block\n",
        "    max_abs_values = np.array([np.max(np.abs(blocks[i, :, :]), axis=0) for i in range(num_periods)])\n",
        "\n",
        "    return max_abs_values\n"
      ]
    }
  ]
}